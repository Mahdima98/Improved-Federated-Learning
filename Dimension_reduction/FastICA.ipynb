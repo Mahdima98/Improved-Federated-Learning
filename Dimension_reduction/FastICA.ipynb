{
 "cells": [
  {
   "cell_type": "code",
   "execution_count": 1,
   "id": "7657502b-b94c-4afe-98d7-133042034cab",
   "metadata": {},
   "outputs": [],
   "source": [
    "import pandas as pd\n",
    "import numpy as np\n",
    "from sklearn.decomposition import FastICA\n",
    "from sklearn.preprocessing import StandardScaler"
   ]
  },
  {
   "cell_type": "code",
   "execution_count": 2,
   "id": "c65c80f1-5bf5-4f84-9d5e-294bfe2a0e0d",
   "metadata": {},
   "outputs": [],
   "source": [
    "data = pd.read_csv('UNSW_2018_IoT_Botnet_Final_10_best_Training.csv')"
   ]
  },
  {
   "cell_type": "code",
   "execution_count": 3,
   "id": "b213b1e5-9946-463d-be01-8992d0a0dd5f",
   "metadata": {},
   "outputs": [],
   "source": [
    "data.loc[data['category'] == 'Normal', 'category'] = 0\n",
    "data.loc[data['category'] == 'DDoS', 'category'] = 1\n",
    "data.loc[data['category'] == 'DoS', 'category'] = 2\n",
    "data.loc[data['category'] == 'Reconnaissance', 'category'] = 3\n",
    "data.loc[data['category'] == 'Theft', 'category'] = 4"
   ]
  },
  {
   "cell_type": "code",
   "execution_count": null,
   "id": "55f6fa44-d5b7-4d91-9b12-3622a094c5bc",
   "metadata": {},
   "outputs": [],
   "source": []
  },
  {
   "cell_type": "code",
   "execution_count": 6,
   "id": "8e7672d2-afff-4ae8-8b9c-cfdd42dad13f",
   "metadata": {},
   "outputs": [],
   "source": [
    "X=data[['seq','stddev','N_IN_Conn_P_SrcIP', 'min', 'state_number', 'mean', 'N_IN_Conn_P_DstIP',\n",
    "       'drate', 'srate', 'max']]\n",
    "y=data[['category']]"
   ]
  },
  {
   "cell_type": "code",
   "execution_count": 8,
   "id": "c21ab747-8e02-468d-ab52-210824c25a2f",
   "metadata": {},
   "outputs": [
    {
     "data": {
      "text/plain": [
       "(2934817, 10)"
      ]
     },
     "execution_count": 8,
     "metadata": {},
     "output_type": "execute_result"
    }
   ],
   "source": [
    "np.shape(X)"
   ]
  },
  {
   "cell_type": "code",
   "execution_count": 9,
   "id": "635ebba2-2cf5-4126-8f8d-99059ce6edf9",
   "metadata": {},
   "outputs": [
    {
     "name": "stderr",
     "output_type": "stream",
     "text": [
      "/home/fallah/.local/lib/python3.10/site-packages/sklearn/decomposition/_fastica.py:542: FutureWarning: Starting in v1.3, whiten='unit-variance' will be used by default.\n",
      "  warnings.warn(\n"
     ]
    }
   ],
   "source": [
    "# Standardize the features\n",
    "scaler = StandardScaler()\n",
    "X_std = scaler.fit_transform(X)\n",
    "\n",
    "# Apply FastICA to perform dimensionality reduction\n",
    "ica = FastICA(n_components=8)\n",
    "reduced_data = ica.fit_transform(X_std)\n",
    "\n",
    "ICA_df = pd.DataFrame(data=reduced_data, columns=['ICA1', 'ICA2', 'ICA3', 'ICA4', 'ICA5','ICA6','ICA7','ICA8'])\n",
    "ICA_df['category'] = y"
   ]
  },
  {
   "cell_type": "code",
   "execution_count": 31,
   "id": "551c3c87-d8f6-4a5c-b8b5-a501f427a3bc",
   "metadata": {},
   "outputs": [
    {
     "data": {
      "text/plain": [
       "{'algorithm': 'parallel',\n",
       " 'fun': 'logcosh',\n",
       " 'fun_args': None,\n",
       " 'max_iter': 200,\n",
       " 'n_components': 8,\n",
       " 'random_state': None,\n",
       " 'tol': 0.0001,\n",
       " 'w_init': None,\n",
       " 'whiten': 'warn',\n",
       " 'whiten_solver': 'svd'}"
      ]
     },
     "execution_count": 31,
     "metadata": {},
     "output_type": "execute_result"
    }
   ],
   "source": [
    "ica.get_params()"
   ]
  },
  {
   "cell_type": "code",
   "execution_count": null,
   "id": "22b42e57-cfb8-40ec-9700-980b226d0cfc",
   "metadata": {},
   "outputs": [],
   "source": []
  },
  {
   "cell_type": "code",
   "execution_count": 11,
   "id": "8cec17d5-8f73-4846-950d-eaab2bb70a93",
   "metadata": {},
   "outputs": [
    {
     "data": {
      "text/plain": [
       "1    1541315\n",
       "2    1320148\n",
       "3      72919\n",
       "0        370\n",
       "4         65\n",
       "Name: category, dtype: int64"
      ]
     },
     "execution_count": 11,
     "metadata": {},
     "output_type": "execute_result"
    }
   ],
   "source": [
    "ICA_df['category'].value_counts()"
   ]
  },
  {
   "cell_type": "code",
   "execution_count": 12,
   "id": "5a260512-f451-47e0-af27-3f148670fe53",
   "metadata": {},
   "outputs": [
    {
     "data": {
      "text/plain": [
       "1    1541315\n",
       "2    1320148\n",
       "3      72919\n",
       "0        370\n",
       "4         65\n",
       "Name: category, dtype: int64"
      ]
     },
     "execution_count": 12,
     "metadata": {},
     "output_type": "execute_result"
    }
   ],
   "source": [
    "data['category'].value_counts()"
   ]
  },
  {
   "cell_type": "code",
   "execution_count": 13,
   "id": "644489fc-9343-4d9c-b910-260ab6dcfb82",
   "metadata": {},
   "outputs": [],
   "source": [
    "just_normal = ICA_df[ICA_df['category'] ==0]\n",
    "just_ddos =ICA_df[ICA_df['category'] ==1]\n",
    "just_dos =ICA_df[ICA_df['category'] ==2]\n",
    "just_recon =ICA_df[ICA_df['category'] ==3]\n",
    "just_theft =ICA_df[ICA_df['category'] ==4]"
   ]
  },
  {
   "cell_type": "code",
   "execution_count": 14,
   "id": "c881f678-e479-41d5-b678-27481c0ec432",
   "metadata": {},
   "outputs": [],
   "source": [
    "#################### Test\n",
    "ddos_0_reduced=just_ddos.sample(n=115413, random_state=50)\n",
    "dos_0_reduced = just_dos.sample(n=99090, random_state=50)\n",
    "norm_0_reduced = just_normal.sample(n=31, random_state=50)\n",
    "recon_0_reduced = just_recon.sample(n=5572, random_state=50)\n",
    "theft_0_reduced = just_theft.sample(n=5, random_state=50)\n",
    "\n",
    "\n",
    "data0_ICA_test = pd.concat([dos_0_reduced, norm_0_reduced,recon_0_reduced,theft_0_reduced, ddos_0_reduced], ignore_index=True)\n",
    "data0_ICA_test = data0_ICA_test.sample(frac=1).reset_index(drop=True)\n",
    "data0_ICA_test.to_csv('data0_ICA_test.csv',index=False)\n",
    "\n",
    "######################## Train\n",
    "dos_0_reduced = just_dos.sample(n=288752, random_state=55)\n",
    "norm_0_reduced = just_normal.sample(n=84, random_state=55)\n",
    "recon_0_reduced = just_recon.sample(n=15979, random_state=55)\n",
    "theft_0_reduced = just_theft.sample(n=13, random_state=55)\n",
    "\n",
    "\n",
    "data0_ICA_train = pd.concat([dos_0_reduced, norm_0_reduced,recon_0_reduced,theft_0_reduced], ignore_index=True)\n",
    "data0_ICA_train = data0_ICA_train.sample(frac=1).reset_index(drop=True)\n",
    "data0_ICA_train.to_csv('data0_ICA_train.csv',index=False)"
   ]
  },
  {
   "cell_type": "code",
   "execution_count": 16,
   "id": "01532844-fd2a-4e4d-8fa9-e350ff1295e7",
   "metadata": {},
   "outputs": [],
   "source": [
    "#################### Test\n",
    "ddos_1_reduced=just_ddos.sample(n=115382, random_state=50)\n",
    "dos_1_reduced = just_dos.sample(n=99303, random_state=50)\n",
    "norm_1_reduced = just_normal.sample(n=26, random_state=50)\n",
    "recon_1_reduced = just_recon.sample(n=5398, random_state=50)\n",
    "theft_1_reduced = just_theft.sample(n=2, random_state=50)\n",
    "\n",
    "\n",
    "data1_ICA_test = pd.concat([dos_1_reduced, norm_1_reduced,recon_1_reduced,theft_1_reduced, ddos_1_reduced], ignore_index=True)\n",
    "data1_ICA_test = data1_ICA_test.sample(frac=1).reset_index(drop=True)\n",
    "data1_ICA_test.to_csv('data1_ICA_test.csv',index=False)\n",
    "\n",
    "######################## Train\n",
    "ddos_1_reduced=just_ddos.sample(n=337162, random_state=55)\n",
    "dos_1_reduced = just_dos.sample(n=288752, random_state=55)\n",
    "norm_1_reduced = just_normal.sample(n=84, random_state=55)\n",
    "theft_1_reduced = just_theft.sample(n=14, random_state=55)\n",
    "\n",
    "\n",
    "data1_ICA_train = pd.concat([dos_1_reduced, norm_1_reduced,ddos_1_reduced,theft_1_reduced], ignore_index=True)\n",
    "data1_ICA_train = data1_ICA_train.sample(frac=1).reset_index(drop=True)\n",
    "data1_ICA_train.to_csv('data1_ICA_train.csv',index=False)"
   ]
  },
  {
   "cell_type": "code",
   "execution_count": 19,
   "id": "7df145b9-4e94-4c9c-8a72-063bcb8579b2",
   "metadata": {},
   "outputs": [],
   "source": [
    "#################### Test\n",
    "ddos_2_reduced=just_ddos.sample(n=115459, random_state=50)\n",
    "dos_2_reduced = just_dos.sample(n=99193, random_state=50)\n",
    "norm_2_reduced = just_normal.sample(n=34, random_state=50)\n",
    "recon_2_reduced = just_recon.sample(n=5420, random_state=50)\n",
    "theft_2_reduced = just_theft.sample(n=5, random_state=50)\n",
    "\n",
    "\n",
    "data2_ICA_test = pd.concat([dos_2_reduced, norm_2_reduced,recon_2_reduced,theft_2_reduced, ddos_2_reduced], ignore_index=True)\n",
    "data2_ICA_test = data2_ICA_test.sample(frac=1).reset_index(drop=True)\n",
    "data2_ICA_test.to_csv('data2_ICA_test.csv',index=False)\n",
    "\n",
    "######################## Train\n",
    "ddos_2_reduced=just_ddos.sample(n=337163, random_state=55)\n",
    "dos_2_reduced = just_dos.sample(n=288752, random_state=55)\n",
    "norm_2_reduced = just_normal.sample(n=84, random_state=55)\n",
    "recon_2_reduced = just_recon.sample(n=15979, random_state=55)\n",
    "\n",
    "\n",
    "data2_ICA_train = pd.concat([dos_2_reduced, norm_2_reduced,ddos_2_reduced,recon_2_reduced], ignore_index=True)\n",
    "data2_ICA_train = data2_ICA_train.sample(frac=1).reset_index(drop=True)\n",
    "data2_ICA_train.to_csv('data2_ICA_train.csv',index=False)"
   ]
  },
  {
   "cell_type": "code",
   "execution_count": 22,
   "id": "9ad2e0ef-060c-445f-8030-65a033ad258c",
   "metadata": {},
   "outputs": [],
   "source": [
    "#################### Test\n",
    "ddos_3_reduced=just_ddos.sample(n=115570, random_state=50)\n",
    "dos_3_reduced = just_dos.sample(n=99016, random_state=50)\n",
    "norm_3_reduced = just_normal.sample(n=32, random_state=50)\n",
    "recon_3_reduced = just_recon.sample(n=5490, random_state=50)\n",
    "theft_3_reduced = just_theft.sample(n=3, random_state=50)\n",
    "\n",
    "\n",
    "data3_ICA_test = pd.concat([dos_3_reduced, norm_3_reduced,recon_3_reduced,theft_3_reduced, ddos_3_reduced], ignore_index=True)\n",
    "data3_ICA_test = data3_ICA_test.sample(frac=1).reset_index(drop=True)\n",
    "data3_ICA_test.to_csv('data3_ICA_test.csv',index=False)\n",
    "\n",
    "######################## Train\n",
    "ddos_3_reduced=just_ddos.sample(n=337163, random_state=55)\n",
    "theft_3_reduced = just_theft.sample(n=14, random_state=55)\n",
    "norm_3_reduced = just_normal.sample(n=84, random_state=55)\n",
    "recon_3_reduced = just_recon.sample(n=15979, random_state=55)\n",
    "\n",
    "\n",
    "data3_ICA_train = pd.concat([theft_3_reduced, norm_3_reduced,ddos_3_reduced,recon_3_reduced], ignore_index=True)\n",
    "data3_ICA_train = data3_ICA_train.sample(frac=1).reset_index(drop=True)\n",
    "data3_ICA_train.to_csv('data3_ICA_train.csv',index=False)"
   ]
  },
  {
   "cell_type": "code",
   "execution_count": 29,
   "id": "6dc30d0b-8aa0-4d55-8c77-20f660b5f1d1",
   "metadata": {},
   "outputs": [],
   "source": [
    "#################### Test\n",
    "ddos_4_reduced=just_ddos.sample(n=115406, random_state=50)\n",
    "dos_4_reduced = just_dos.sample(n=99354, random_state=50)\n",
    "norm_4_reduced = just_normal.sample(n=26, random_state=50)\n",
    "recon_4_reduced = just_recon.sample(n=5318, random_state=50)\n",
    "theft_4_reduced = just_theft.sample(n=7, random_state=50)\n",
    "\n",
    "\n",
    "data4_ICA_test = pd.concat([dos_4_reduced, norm_4_reduced,recon_4_reduced,theft_4_reduced, ddos_4_reduced], ignore_index=True)\n",
    "data4_ICA_test = data4_ICA_test.sample(frac=1).reset_index(drop=True)\n",
    "data4_ICA_test.to_csv('data4_ICA_test.csv',index=False)\n",
    "\n",
    "######################## Train\n",
    "ddos_4_reduced=just_ddos.sample(n=337163, random_state=55)\n",
    "theft_4_reduced = just_theft.sample(n=14, random_state=55)\n",
    "dos_4_reduced = just_dos.sample(n=288752, random_state=55)\n",
    "recon_4_reduced = just_recon.sample(n=15979, random_state=55)\n",
    "\n",
    "\n",
    "data4_ICA_train = pd.concat([theft_4_reduced, dos_4_reduced,ddos_4_reduced,recon_4_reduced], ignore_index=True)\n",
    "data4_ICA_train = data4_ICA_train.sample(frac=1).reset_index(drop=True)\n",
    "data4_ICA_train.to_csv('data4_ICA_train.csv',index=False)"
   ]
  },
  {
   "cell_type": "code",
   "execution_count": 30,
   "id": "306df282-9c80-46c2-a961-c3d1f0bb7f89",
   "metadata": {},
   "outputs": [
    {
     "data": {
      "text/plain": [
       "1    115406\n",
       "2     99354\n",
       "3      5318\n",
       "0        26\n",
       "4         7\n",
       "Name: category, dtype: int64"
      ]
     },
     "execution_count": 30,
     "metadata": {},
     "output_type": "execute_result"
    }
   ],
   "source": [
    "data4_ICA_test['category'].value_counts()"
   ]
  }
 ],
 "metadata": {
  "kernelspec": {
   "display_name": "Python 3 (ipykernel)",
   "language": "python",
   "name": "python3"
  },
  "language_info": {
   "codemirror_mode": {
    "name": "ipython",
    "version": 3
   },
   "file_extension": ".py",
   "mimetype": "text/x-python",
   "name": "python",
   "nbconvert_exporter": "python",
   "pygments_lexer": "ipython3",
   "version": "3.10.4"
  }
 },
 "nbformat": 4,
 "nbformat_minor": 5
}
